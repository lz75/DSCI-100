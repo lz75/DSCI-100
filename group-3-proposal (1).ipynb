{
 "cells": [
  {
   "cell_type": "markdown",
   "metadata": {},
   "source": [
    "# What is the Most Significant Predictor of Backhand Status?\n",
    "\n",
    "Group 3: Rafael Alkalai\n",
    "         Taras Baker\n",
    "         Ruhi Mander\n",
    "         Terry Wong\n",
    "         Joey Forte\n",
    "         Mina Yang"
   ]
  },
  {
   "cell_type": "code",
   "execution_count": null,
   "metadata": {},
   "outputs": [],
   "source": [
    " ### Run this cell before continuing. \n",
    "\n",
    "library(tidyverse)\n",
    "library(repr)\n",
    "library(caret)"
   ]
  },
  {
   "cell_type": "markdown",
   "metadata": {},
   "source": [
    "## Introduction\n",
    "\n",
    "</p> First played on grass courts by Victorian gentlemen and ladies in Britain, the origins of tennis can be traced back to a 13th-century French handball game called jeu de paume (“game of the palm”). Now played by millions of people around the world, tennis poses two players (singles) or pairs of players (doubles), who use rackets to hit a ball and bounce it over a net on a rectangular court. Points are awarded to a player or team whenever the opponent fails to correctly return the ball within the prescribed dimensions of the court. </p>"
   ]
  },
  {
   "cell_type": "markdown",
   "metadata": {},
   "source": [
    "Question: Which factors are most significant in the prediction of the backhand status of a tennis player?"
   ]
  },
  {
   "cell_type": "markdown",
   "metadata": {},
   "source": [
    "</p> We are interested in determining which factors are most significant in the prediction of the backhand status of a tennis player. The backhand stroke can be made one-handed or two-handed; we believe that the choice to stroke with one or both hands may be predicted by significant variables within the dataset. </p>"
   ]
  },
  {
   "cell_type": "markdown",
   "metadata": {},
   "source": [
    "</p> We will be exploring the “Player Stats for Top 500 Players” (https://www.ultimatetennisstatistics.com/) dataset to answer our question. The dataset is composed of 500 individual tennis player observations, with 38 variables including Country Name, Best Rank, and Backhand. Several variables contain scattered information for only a handful of players; our team has made the decision to work within these constraints and use only the values that have been provided. </p>\n",
    "\n"
   ]
  },
  {
   "cell_type": "markdown",
   "metadata": {},
   "source": [
    "## Preliminary Exploratory Analysis\n",
    "\n",
    "The data can be read from the Ultimate Tennis Statistics database using the dbConnect function from the DBI (database interface) package."
   ]
  },
  {
   "cell_type": "code",
   "execution_count": null,
   "metadata": {},
   "outputs": [],
   "source": [
    "#Unsure if we can do this, delete if necessary\n",
    "\n",
    "library(DBI)\n",
    "library(RPostgres)\n",
    "tennis  <- "
   ]
  },
  {
   "cell_type": "markdown",
   "metadata": {},
   "source": [
    "We can also read directly from the .csv file to read in tabular data directly from a url that contains tabular data:"
   ]
  },
  {
   "cell_type": "code",
   "execution_count": null,
   "metadata": {},
   "outputs": [],
   "source": [
    "tennis <- read_csv(\"data/player_stats.csv\")\n",
    "head(tennis)"
   ]
  },
  {
   "cell_type": "markdown",
   "metadata": {},
   "source": [
    "We will summarize our data in more than one table through our exploratory data analysis; this means tidying and wrangling the data to create a data-frame that eliminates irrelevant variables and allows us to plot our new data frame and make accurate predictions."
   ]
  },
  {
   "cell_type": "markdown",
   "metadata": {},
   "source": [
    "We will summarize our data in more than one table through our exploratory data analysis; this means tidying and wrangling the data to create a data-frame that eliminates irrelevant variables and allows us to plot our new data frame and make accurate predictions."
   ]
  },
  {
   "cell_type": "markdown",
   "metadata": {},
   "source": [
    "We will utilize the “Player Stats” training set to visualize our tidy data-frame, and explore which variables are the most significant predictors of whether a player employs a one-handed or two-handed backhand stroke. Each of our visualizations will be properly sized, colored, and labeled to ensure viewers are easily able to understand our final conclusion. "
   ]
  },
  {
   "cell_type": "code",
   "execution_count": null,
   "metadata": {},
   "outputs": [],
   "source": []
  },
  {
   "cell_type": "markdown",
   "metadata": {},
   "source": [
    "## Methods\n",
    "\n",
    "<p> Upon initial inspection of the source data, we noticed that it was not in a tidy format and that several formatting inconsistencies were present. As a result, we believe that some cleaning and tidying of the data is required before conducting our analysis. For starters, we noticed a player's highest rank and the date on which they achieved this rank was recorded together under a single observation in the variable *Best Rank*. This issue of recording multiple observations together in a single data cell is a recurring theme throughout our source data. Therefore, our first approach to tidying this data set would be to create new columns and separate all instances of these groupings. Additionally, we aim to standardize many of the variables in order to facilitate predictive modelling. </p>\n"
   ]
  },
  {
   "cell_type": "markdown",
   "metadata": {},
   "source": [
    "<p> We intend on performing knn classification in order to predict the backhand status of a given tennis player. Some interesting variables we would like to explore when designing and training our classification model include: *Country of Birth (Region)*, *Player Height*, *Player Rank* and *Years of Professional Play*. We chose to include region of birth because we wanted to investigate whether or not different regions had a common preference for employing a one handed or two handed backhand stroke. </p>"
   ]
  },
  {
   "cell_type": "markdown",
   "metadata": {},
   "source": [
    "<p> Our approach to visualization of the classification results would be to include a plot that displayed the different proportions of  backhand preference across multiple regions and evaluate how those proportions varied. </p>\n",
    "    "
   ]
  },
  {
   "cell_type": "code",
   "execution_count": null,
   "metadata": {},
   "outputs": [],
   "source": []
  },
  {
   "cell_type": "markdown",
   "metadata": {},
   "source": [
    "## Expected Outcomes and Significance\n",
    "\n",
    "</p> Identifying which factors are most significant in the prediction of the backhand status of a tennis player could lead to insight on various factors. One example includes that there may be a optimum height and weight region in which players are most likely to have a certain backhand status. Another example is that knowing a player's backhand status may help identify which geographical region they are from as there may be a correlation there due to different training techniques in different regions. </p>\n"
   ]
  },
  {
   "cell_type": "markdown",
   "metadata": {},
   "source": [
    "</p> From our combined prior knowledge of tennis and other related subjects, we can infer what things most affect the kind of backhand a player will use. While most players nowadays have a two-handed backhand, the sport of tennis was traditionally played only with a one handed backhand style. Moreover, since the two-handed style is a relatively recent development, we can assume that it is more common for an older player to possess a one-handed backhand. In addition to age being a factor, a player’s country of origin, or where they learned to play tennis, probably has a significant role in their playstyle and furthermore their choice of backhand. </p>"
   ]
  },
  {
   "cell_type": "markdown",
   "metadata": {},
   "source": [
    "</p> While we know some factors that determine the likelihood of a player having a one-handed, there are other things that can most definitely also affect this statistic; such as, height, weight, etc. So it will be interesting to see some of the other, less obvious, ways a player ultimately chooses their preferred type of backhand. </p>\n"
   ]
  },
  {
   "cell_type": "markdown",
   "metadata": {},
   "source": [
    "</p> Questions for future analysis, that go beyond our original question include: \"Do players acquire a greater amount of prize money if they have a one-handed backhand status\", \"Which backhand status holds more titles\", and \"Does one backhand status hold a higher best rank on average compared to the other\". </p>\n"
   ]
  },
  {
   "cell_type": "code",
   "execution_count": null,
   "metadata": {},
   "outputs": [],
   "source": []
  }
 ],
 "metadata": {
  "kernelspec": {
   "display_name": "R",
   "language": "R",
   "name": "ir"
  },
  "language_info": {
   "codemirror_mode": "r",
   "file_extension": ".r",
   "mimetype": "text/x-r-source",
   "name": "R",
   "pygments_lexer": "r",
   "version": "3.6.1"
  }
 },
 "nbformat": 4,
 "nbformat_minor": 2
}
